{
 "cells": [
  {
   "cell_type": "code",
   "execution_count": 1,
   "id": "9117cda6",
   "metadata": {},
   "outputs": [
    {
     "name": "stdout",
     "output_type": "stream",
     "text": [
      "API Key: sk-proj-at...\n"
     ]
    },
    {
     "ename": "ValidationError",
     "evalue": "1 validation error for ChatOpenAI\n__root__\n  Client.__init__() got an unexpected keyword argument 'proxies' (type=type_error)",
     "output_type": "error",
     "traceback": [
      "\u001b[31m---------------------------------------------------------------------------\u001b[39m",
      "\u001b[31mValidationError\u001b[39m                           Traceback (most recent call last)",
      "\u001b[36mCell\u001b[39m\u001b[36m \u001b[39m\u001b[32mIn[1]\u001b[39m\u001b[32m, line 15\u001b[39m\n\u001b[32m     12\u001b[39m \u001b[38;5;28;01mfrom\u001b[39;00m\u001b[38;5;250m \u001b[39m\u001b[34;01mlangchain_core\u001b[39;00m\u001b[34;01m.\u001b[39;00m\u001b[34;01moutput_parsers\u001b[39;00m\u001b[38;5;250m \u001b[39m\u001b[38;5;28;01mimport\u001b[39;00m StrOutputParser\n\u001b[32m     14\u001b[39m \u001b[38;5;66;03m# LLM 초기화\u001b[39;00m\n\u001b[32m---> \u001b[39m\u001b[32m15\u001b[39m llm = \u001b[43mChatOpenAI\u001b[49m\u001b[43m(\u001b[49m\n\u001b[32m     16\u001b[39m \u001b[43m    \u001b[49m\u001b[43mmodel\u001b[49m\u001b[43m=\u001b[49m\u001b[33;43m\"\u001b[39;49m\u001b[33;43mgpt-4-turbo-preview\u001b[39;49m\u001b[33;43m\"\u001b[39;49m\u001b[43m,\u001b[49m\n\u001b[32m     17\u001b[39m \u001b[43m    \u001b[49m\u001b[43mtemperature\u001b[49m\u001b[43m=\u001b[49m\u001b[32;43m0.0\u001b[39;49m\u001b[43m,\u001b[49m\n\u001b[32m     18\u001b[39m \u001b[43m    \u001b[49m\u001b[43mopenai_api_key\u001b[49m\u001b[43m=\u001b[49m\u001b[43mapi_key\u001b[49m\n\u001b[32m     19\u001b[39m \u001b[43m)\u001b[49m\n\u001b[32m     21\u001b[39m \u001b[38;5;66;03m# 프롬프트\u001b[39;00m\n\u001b[32m     22\u001b[39m prompt = PromptTemplate(\n\u001b[32m     23\u001b[39m     input_variables=[\u001b[33m\"\u001b[39m\u001b[33mquestion\u001b[39m\u001b[33m\"\u001b[39m],\n\u001b[32m     24\u001b[39m     template=\u001b[33m\"\"\"\u001b[39m\n\u001b[32m   (...)\u001b[39m\u001b[32m     38\u001b[39m \u001b[33m\"\"\"\u001b[39m\n\u001b[32m     39\u001b[39m )\n",
      "\u001b[36mFile \u001b[39m\u001b[32mC:\\invest_project\\AI\\venv\\Lib\\site-packages\\pydantic\\v1\\main.py:341\u001b[39m, in \u001b[36mBaseModel.__init__\u001b[39m\u001b[34m(__pydantic_self__, **data)\u001b[39m\n\u001b[32m    339\u001b[39m values, fields_set, validation_error = validate_model(__pydantic_self__.\u001b[34m__class__\u001b[39m, data)\n\u001b[32m    340\u001b[39m \u001b[38;5;28;01mif\u001b[39;00m validation_error:\n\u001b[32m--> \u001b[39m\u001b[32m341\u001b[39m     \u001b[38;5;28;01mraise\u001b[39;00m validation_error\n\u001b[32m    342\u001b[39m \u001b[38;5;28;01mtry\u001b[39;00m:\n\u001b[32m    343\u001b[39m     object_setattr(__pydantic_self__, \u001b[33m'\u001b[39m\u001b[33m__dict__\u001b[39m\u001b[33m'\u001b[39m, values)\n",
      "\u001b[31mValidationError\u001b[39m: 1 validation error for ChatOpenAI\n__root__\n  Client.__init__() got an unexpected keyword argument 'proxies' (type=type_error)"
     ]
    }
   ],
   "source": [
    "# ===== 셀 1: 환경 로딩 =====\n",
    "from dotenv import load_dotenv\n",
    "import os\n",
    "\n",
    "load_dotenv()\n",
    "api_key = os.getenv(\"OPENAI_API_KEY\")\n",
    "print(f\"API Key: {api_key[:10]}...\" if api_key else \"No API Key\")\n",
    "\n",
    "# ===== 셀 2: 질문 분류 테스트 =====\n",
    "from langchain_openai import ChatOpenAI\n",
    "from langchain.prompts import PromptTemplate\n",
    "from langchain_core.output_parsers import StrOutputParser\n",
    "\n",
    "# LLM 초기화\n",
    "llm = ChatOpenAI(\n",
    "    model=\"gpt-4-turbo-preview\",\n",
    "    temperature=0.0,\n",
    "    openai_api_key=api_key\n",
    ")\n",
    "\n",
    "# 프롬프트\n",
    "prompt = PromptTemplate(\n",
    "    input_variables=[\"question\"],\n",
    "    template=\"\"\"\n",
    "당신은 투자 질문을 분류하는 전문가입니다.\n",
    "사용자 질문을 아래 4가지 카테고리 중 **정확히 하나**로 분류하세요.\n",
    "\n",
    "카테고리:\n",
    "1. economic_indicator - 기준금리, M2, 환율, GDP 등 경제지표 관련\n",
    "2. stock_price - 특정 기업의 주가, 시가총액, 재무제표 관련\n",
    "3. analyst_report - 증권사 리포트, 애널리스트 의견, 목표주가 관련\n",
    "4. general - 일반적인 투자 전략, 조언, 포트폴리오 관련\n",
    "\n",
    "질문: {question}\n",
    "\n",
    "답변 형식: 카테고리 이름만 정확히 출력하세요 (예: economic_indicator)\n",
    "카테고리:\n",
    "\"\"\"\n",
    ")\n",
    "\n",
    "# 체인 구성\n",
    "chain = prompt | llm | StrOutputParser()\n",
    "\n",
    "# ===== 셀 3: 테스트 질문들 =====\n",
    "test_questions = [\n",
    "    \"삼성전자 주가가 얼마야?\",\n",
    "    \"기준금리 인상이 주식시장에 미치는 영향은?\",\n",
    "    \"NH투자증권의 삼성전자 목표주가는?\",\n",
    "    \"초보자한테 추천하는 투자 전략은?\",\n",
    "    \"M2 통화량이 늘어나면 어떻게 돼?\",\n",
    "    \"애플 재무제표 보여줘\"\n",
    "]\n",
    "\n",
    "# 각 질문별 분류 결과 확인\n",
    "for q in test_questions:\n",
    "    result = chain.invoke({\"question\": q})\n",
    "    print(f\"질문: {q}\")\n",
    "    print(f\"분류: {result}\\n\")\n"
   ]
  }
 ],
 "metadata": {
  "kernelspec": {
   "display_name": "myenv",
   "language": "python",
   "name": "python3"
  },
  "language_info": {
   "codemirror_mode": {
    "name": "ipython",
    "version": 3
   },
   "file_extension": ".py",
   "mimetype": "text/x-python",
   "name": "python",
   "nbconvert_exporter": "python",
   "pygments_lexer": "ipython3",
   "version": "3.9.24"
  }
 },
 "nbformat": 4,
 "nbformat_minor": 5
}
