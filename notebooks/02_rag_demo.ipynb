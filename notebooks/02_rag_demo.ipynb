{
 "cells": [
  {
   "cell_type": "code",
   "execution_count": null,
   "id": "95b8e872",
   "metadata": {},
   "outputs": [],
   "source": [
    "# RAG 파이프라인 전체 테스트\n",
    "from langchain.chains import RetrievalQA\n",
    "from langchain_openai import ChatOpenAI\n",
    "from langchain_community.vectorstores import Chroma\n",
    "from langchain_openai import OpenAIEmbeddings\n",
    "\n",
    "# LLM 설정\n",
    "llm = ChatOpenAI(model=\"gpt-4-turbo-preview\", temperature=0.3)\n",
    "\n",
    "# 벡터 DB 불러오기\n",
    "embeddings = OpenAIEmbeddings()\n",
    "db = Chroma(\n",
    "    persist_directory=\"./embeddings/test_db\",\n",
    "    embedding_function=embeddings\n",
    ")\n",
    "\n",
    "# RAG 체인\n",
    "qa_chain = RetrievalQA.from_chain_type(\n",
    "    llm=llm,\n",
    "    retriever=db.as_retriever()\n",
    ")\n",
    "\n",
    "# 질문 테스트\n",
    "question = \"M2가 뭐야?\"\n",
    "answer = qa_chain.run(question)\n",
    "print(answer)\n"
   ]
  }
 ],
 "metadata": {
  "kernelspec": {
   "display_name": "venv",
   "language": "python",
   "name": "python3"
  },
  "language_info": {
   "name": "python",
   "version": "3.12.7"
  }
 },
 "nbformat": 4,
 "nbformat_minor": 5
}
