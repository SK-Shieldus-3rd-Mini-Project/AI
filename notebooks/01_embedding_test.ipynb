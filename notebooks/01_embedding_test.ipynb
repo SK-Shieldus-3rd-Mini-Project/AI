{
 "cells": [
  {
   "cell_type": "code",
   "execution_count": 5,
   "id": "f0442384",
   "metadata": {},
   "outputs": [
    {
     "name": "stdout",
     "output_type": "stream",
     "text": [
      "Python: 3.11.8 (tags/v3.11.8:db85d51, Feb  6 2024, 22:03:32) [MSC v.1937 64 bit (AMD64)]\n",
      "Working Directory: c:\\invest_project\\AI\\notebooks\n"
     ]
    }
   ],
   "source": [
    "# 첫 셀: 환경 확인\n",
    "import sys\n",
    "print(f\"Python: {sys.version}\")\n",
    "print(f\"Working Directory: {sys.path[0]}\")\n",
    "\n",
    "\n"
   ]
  },
  {
   "cell_type": "code",
   "execution_count": 6,
   "id": "85ab4f92",
   "metadata": {},
   "outputs": [
    {
     "name": "stdout",
     "output_type": "stream",
     "text": [
      "API Key loaded: sk-proj-at...\n"
     ]
    }
   ],
   "source": [
    "# 두번째 셀: OpenAI 연결 테스트\n",
    "from dotenv import load_dotenv\n",
    "import os\n",
    "\n",
    "load_dotenv()\n",
    "api_key = os.getenv(\"OPENAI_API_KEY\")\n",
    "print(f\"API Key loaded: {api_key[:10]}...\" if api_key else \"No API Key\")\n",
    "\n"
   ]
  },
  {
   "cell_type": "code",
   "execution_count": null,
   "id": "8f633673",
   "metadata": {},
   "outputs": [
    {
     "name": "stderr",
     "output_type": "stream",
     "text": [
      "c:\\invest_project\\AI\\venv\\Lib\\site-packages\\langchain_openai\\embeddings\\base.py:148: UserWarning: WARNING! OPENAI_API_KEY is not default parameter.\n",
      "                    OPENAI_API_KEY was transferred to model_kwargs.\n",
      "                    Please confirm that OPENAI_API_KEY is what you intended.\n",
      "  warnings.warn(\n"
     ]
    },
    {
     "ename": "ValidationError",
     "evalue": "1 validation error for OpenAIEmbeddings\n__root__\n  Client.__init__() got an unexpected keyword argument 'proxies' (type=type_error)",
     "output_type": "error",
     "traceback": [
      "\u001b[31m---------------------------------------------------------------------------\u001b[39m",
      "\u001b[31mValidationError\u001b[39m                           Traceback (most recent call last)",
      "\u001b[36mCell\u001b[39m\u001b[36m \u001b[39m\u001b[32mIn[10]\u001b[39m\u001b[32m, line 7\u001b[39m\n\u001b[32m      4\u001b[39m \u001b[38;5;28;01mfrom\u001b[39;00m\u001b[38;5;250m \u001b[39m\u001b[34;01mlangchain_community\u001b[39;00m\u001b[34;01m.\u001b[39;00m\u001b[34;01mvectorstores\u001b[39;00m\u001b[38;5;250m \u001b[39m\u001b[38;5;28;01mimport\u001b[39;00m Chroma\n\u001b[32m      6\u001b[39m texts = [\u001b[33m\"\u001b[39m\u001b[33m기준금리란 무엇인가요?\u001b[39m\u001b[33m\"\u001b[39m, \u001b[33m\"\u001b[39m\u001b[33mM2는 무엇인가요?\u001b[39m\u001b[33m\"\u001b[39m]\n\u001b[32m----> \u001b[39m\u001b[32m7\u001b[39m embeddings = \u001b[43mOpenAIEmbeddings\u001b[49m\u001b[43m(\u001b[49m\u001b[43mOPENAI_API_KEY\u001b[49m\u001b[43m=\u001b[49m\u001b[43mapi_key\u001b[49m\u001b[43m)\u001b[49m\n\u001b[32m      8\u001b[39m \u001b[38;5;28mprint\u001b[39m(\u001b[33m\"\u001b[39m\u001b[33mEmbeddings object created!\u001b[39m\u001b[33m\"\u001b[39m)\n\u001b[32m     10\u001b[39m \u001b[38;5;28;01mfrom\u001b[39;00m\u001b[38;5;250m \u001b[39m\u001b[34;01mlangchain_community\u001b[39;00m\u001b[34;01m.\u001b[39;00m\u001b[34;01mvectorstores\u001b[39;00m\u001b[38;5;250m \u001b[39m\u001b[38;5;28;01mimport\u001b[39;00m Chroma\n",
      "\u001b[36mFile \u001b[39m\u001b[32mc:\\invest_project\\AI\\venv\\Lib\\site-packages\\pydantic\\v1\\main.py:341\u001b[39m, in \u001b[36mBaseModel.__init__\u001b[39m\u001b[34m(__pydantic_self__, **data)\u001b[39m\n\u001b[32m    339\u001b[39m values, fields_set, validation_error = validate_model(__pydantic_self__.\u001b[34m__class__\u001b[39m, data)\n\u001b[32m    340\u001b[39m \u001b[38;5;28;01mif\u001b[39;00m validation_error:\n\u001b[32m--> \u001b[39m\u001b[32m341\u001b[39m     \u001b[38;5;28;01mraise\u001b[39;00m validation_error\n\u001b[32m    342\u001b[39m \u001b[38;5;28;01mtry\u001b[39;00m:\n\u001b[32m    343\u001b[39m     object_setattr(__pydantic_self__, \u001b[33m'\u001b[39m\u001b[33m__dict__\u001b[39m\u001b[33m'\u001b[39m, values)\n",
      "\u001b[31mValidationError\u001b[39m: 1 validation error for OpenAIEmbeddings\n__root__\n  Client.__init__() got an unexpected keyword argument 'proxies' (type=type_error)"
     ]
    }
   ],
   "source": [
    "# 세번째 셀: 임베딩 테스트\n",
    "from langchain_openai import OpenAIEmbeddings\n",
    "import os\n",
    "from langchain_community.vectorstores import Chroma\n",
    "\n",
    "texts = [\"기준금리란 무엇인가요?\", \"M2는 무엇인가요?\"]\n",
    "embeddings = OpenAIEmbeddings(openai_api_key=api_key)\n",
    "print(\"Embeddings object created!\")\n",
    "\n",
    "from langchain_community.vectorstores import Chroma\n",
    "\n",
    "\n"
   ]
  },
  {
   "cell_type": "code",
   "execution_count": 8,
   "id": "aeeb0c23",
   "metadata": {},
   "outputs": [
    {
     "ename": "NameError",
     "evalue": "name 'embeddings' is not defined",
     "output_type": "error",
     "traceback": [
      "\u001b[31m---------------------------------------------------------------------------\u001b[39m",
      "\u001b[31mNameError\u001b[39m                                 Traceback (most recent call last)",
      "\u001b[36mCell\u001b[39m\u001b[36m \u001b[39m\u001b[32mIn[8]\u001b[39m\u001b[32m, line 9\u001b[39m\n\u001b[32m      1\u001b[39m \u001b[38;5;66;03m# 테스트 데이터\u001b[39;00m\n\u001b[32m      2\u001b[39m texts = [\n\u001b[32m      3\u001b[39m     \u001b[33m\"\u001b[39m\u001b[33m기준금리는 한국은행이 정하는 가장 기본 이자율이에요.\u001b[39m\u001b[33m\"\u001b[39m,\n\u001b[32m      4\u001b[39m     \u001b[33m\"\u001b[39m\u001b[33mM2는 경제에 풀린 돈의 양을 나타내는 대표적인 통화지표입니다.\u001b[39m\u001b[33m\"\u001b[39m\n\u001b[32m      5\u001b[39m ]\n\u001b[32m      7\u001b[39m db = Chroma.from_texts(\n\u001b[32m      8\u001b[39m     texts, \n\u001b[32m----> \u001b[39m\u001b[32m9\u001b[39m     \u001b[43membeddings\u001b[49m, \n\u001b[32m     10\u001b[39m     persist_directory=\u001b[33m\"\u001b[39m\u001b[33m./embeddings/test_db\u001b[39m\u001b[33m\"\u001b[39m\n\u001b[32m     11\u001b[39m )\n\u001b[32m     12\u001b[39m \u001b[38;5;28mprint\u001b[39m(\u001b[33m\"\u001b[39m\u001b[33mChroma vector DB created!\u001b[39m\u001b[33m\"\u001b[39m)\n\u001b[32m     14\u001b[39m \u001b[38;5;66;03m# 검색 테스트\u001b[39;00m\n",
      "\u001b[31mNameError\u001b[39m: name 'embeddings' is not defined"
     ]
    }
   ],
   "source": [
    "# 테스트 데이터\n",
    "texts = [\n",
    "    \"기준금리는 한국은행이 정하는 가장 기본 이자율이에요.\",\n",
    "    \"M2는 경제에 풀린 돈의 양을 나타내는 대표적인 통화지표입니다.\"\n",
    "]\n",
    "\n",
    "db = Chroma.from_texts(\n",
    "    texts, \n",
    "    embeddings, \n",
    "    persist_directory=\"./embeddings/test_db\"\n",
    ")\n",
    "print(\"Chroma vector DB created!\")\n",
    "\n",
    "# 검색 테스트\n",
    "query = \"기준금리 설명\"\n",
    "results = db.similarity_search(query, k=2)\n",
    "for doc in results:\n",
    "    print(doc.page_content)\n"
   ]
  },
  {
   "cell_type": "code",
   "execution_count": null,
   "id": "9117cda6",
   "metadata": {},
   "outputs": [],
   "source": []
  }
 ],
 "metadata": {
  "kernelspec": {
   "display_name": "venv",
   "language": "python",
   "name": "python3"
  },
  "language_info": {
   "codemirror_mode": {
    "name": "ipython",
    "version": 3
   },
   "file_extension": ".py",
   "mimetype": "text/x-python",
   "name": "python",
   "nbconvert_exporter": "python",
   "pygments_lexer": "ipython3",
   "version": "3.11.8"
  }
 },
 "nbformat": 4,
 "nbformat_minor": 5
}
