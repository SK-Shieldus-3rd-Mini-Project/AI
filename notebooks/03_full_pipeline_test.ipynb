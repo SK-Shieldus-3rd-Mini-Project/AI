{
 "cells": [
  {
   "cell_type": "code",
   "execution_count": 3,
   "id": "62bdd7c9",
   "metadata": {},
   "outputs": [
    {
     "name": "stderr",
     "output_type": "stream",
     "text": [
      "2025-10-22 16:57:53,435 - utils.logger - INFO - 질문 분류 시작: 삼성전자 AI 반도체 전망은?\n"
     ]
    },
    {
     "name": "stdout",
     "output_type": "stream",
     "text": [
      "\n",
      "======================================================================\n",
      "질문: 삼성전자 AI 반도체 전망은?\n",
      "======================================================================\n"
     ]
    },
    {
     "name": "stderr",
     "output_type": "stream",
     "text": [
      "2025-10-22 16:57:56,319 - httpx - INFO - HTTP Request: POST https://api.openai.com/v1/chat/completions \"HTTP/1.1 200 OK\"\n",
      "2025-10-22 16:57:56,326 - utils.logger - INFO - 분류 결과: analyst_report\n",
      "2025-10-22 16:57:56,329 - utils.logger - INFO - RAG 질의 시작: 삼성전자 AI 반도체 전망은?\n",
      "2025-10-22 16:57:56,331 - utils.logger - INFO - RAG 체인 생성 시작\n"
     ]
    },
    {
     "name": "stdout",
     "output_type": "stream",
     "text": [
      "\n",
      "[분류] analyst_report\n"
     ]
    },
    {
     "name": "stderr",
     "output_type": "stream",
     "text": [
      "2025-10-22 16:57:56,832 - chromadb.telemetry.product.posthog - ERROR - Failed to send telemetry event ClientStartEvent: capture() takes 1 positional argument but 3 were given\n",
      "2025-10-22 16:57:56,834 - chromadb.telemetry.product.posthog - ERROR - Failed to send telemetry event ClientCreateCollectionEvent: capture() takes 1 positional argument but 3 were given\n",
      "2025-10-22 16:57:56,835 - utils.logger - INFO - 벡터스토어 로드 완료: test_reports\n",
      "2025-10-22 16:57:56,836 - utils.logger - INFO - RAG 체인 생성 완료\n",
      "2025-10-22 16:57:57,230 - httpx - INFO - HTTP Request: POST https://api.openai.com/v1/embeddings \"HTTP/1.1 200 OK\"\n",
      "2025-10-22 16:58:08,801 - httpx - INFO - HTTP Request: POST https://api.openai.com/v1/chat/completions \"HTTP/1.1 200 OK\"\n",
      "2025-10-22 16:58:08,811 - utils.logger - INFO - RAG 답변 생성 완료: 477자\n",
      "2025-10-22 16:58:08,812 - utils.logger - INFO - 질문 분류 시작: 초보자한테 추천하는 투자 전략은?\n"
     ]
    },
    {
     "name": "stdout",
     "output_type": "stream",
     "text": [
      "\n",
      "[답변]\n",
      "죄송합니다, 하지만 제가 실제 증꽃사 리포트에 접근할 수 없으므로 직접적인 리포트 내용을 기반으로 한 답변을 제공할 수 없습니다. 하지만 일반적으로 삼성전자가 AI 반도체 분야에 집중하고 있는 것은 사실입니다. 삼성전자는 글로벌 반도체 시장에서 중요한 역할을 하고 있으며, AI 기술의 발전과 함께 AI 반도체에 대한 수요가 증가함에 따라 이 분야에 대한 연구와 개발을 강화하고 있습니다. 이는 삼성전자가 미래 기술에 대비하고, 시장에서의 경쟁력을 유지 및 강화하기 위한 전략의 일환으로 볼 수 있습니다. AI 반도체는 인공지능 애플리케이션과 서비스를 위한 고성능 컴퓨팅 능력을 제공하는 데 중요한 역할을 하며, 이는 스마트폰, 데이터 센터, 자율주행차 등 다양한 분야에서 활용될 수 있습니다. 따라서 삼성전자의 AI 반도체에 대한 전망은 긍정적인 측면이 많으며, 이 분야에서의 지속적인 연구개발과 투자는 회사의 장기적 성장에 기여할 것으로 기대됩니다.\n",
      "\n",
      "[출처]\n",
      "\n",
      "======================================================================\n",
      "질문: 초보자한테 추천하는 투자 전략은?\n",
      "======================================================================\n"
     ]
    },
    {
     "name": "stderr",
     "output_type": "stream",
     "text": [
      "2025-10-22 16:58:11,827 - httpx - INFO - HTTP Request: POST https://api.openai.com/v1/chat/completions \"HTTP/1.1 200 OK\"\n",
      "2025-10-22 16:58:11,832 - utils.logger - INFO - 분류 결과: general\n",
      "2025-10-22 16:58:11,833 - utils.logger - INFO - 일반 상담 질의: 초보자한테 추천하는 투자 전략은?\n"
     ]
    },
    {
     "name": "stdout",
     "output_type": "stream",
     "text": [
      "\n",
      "[분류] general\n"
     ]
    },
    {
     "name": "stderr",
     "output_type": "stream",
     "text": [
      "2025-10-22 16:58:34,094 - httpx - INFO - HTTP Request: POST https://api.openai.com/v1/chat/completions \"HTTP/1.1 200 OK\"\n",
      "2025-10-22 16:58:34,114 - utils.logger - INFO - 일반 상담 답변 생성 완료\n",
      "2025-10-22 16:58:34,121 - utils.logger - INFO - 질문 분류 시작: 네이버 목표주가는?\n"
     ]
    },
    {
     "name": "stdout",
     "output_type": "stream",
     "text": [
      "\n",
      "[답변]\n",
      "초보 투자자분들께 투자 전략을 추천드릴 때 가장 중요하게 생각해야 할 것은 바로 '기본을 탄탄하게 다지는 것'입니다. 투자의 세계는 복잡하고 다양한 선택지가 있지만, 기본적인 원칙을 이해하고 따르는 것이 중요합니다. 아래에 몇 가지 쉽고 기본적인 투자 전략을 소개해 드리겠습니다.\n",
      "\n",
      "1. **분산 투자하기**: 모든 계란을 한 바구니에 담지 말라는 말이 있죠? 투자도 마찬가지입니다. 여러 종류의 투자(주식, 채권, 부동산 등)에 나눠서 투자함으로써 한 곳에서 손실이 발생해도 다른 곳에서의 이득으로 보완할 수 있습니다. 예를 들어, 주식 시장이 하락할 때 채권이나 부동산 투자가 상대적으로 안정적일 수 있습니다.\n",
      "\n",
      "2. **장기 투자하기**: 투자는 마라톤과 같습니다. 단기간에 큰 수익을 기대하기보다는 장기간에 걸쳐 꾸준히 성장할 수 있는 투자를 찾는 것이 중요합니다. 예를 들어, 역사적으로 보면 주식 시장은 장기적으로 성장하는 경향이 있습니다. 단기적인 시장의 변동에 너무 민감하게 반응하기보다는 장기적인 관점을 가지고 투자하는 것이 좋습니다.\n",
      "\n",
      "3. **자신만의 투자 원칙 만들기**: 투자할 때는 자신만의 명확한 원칙을 가지고 투자하는 것이 중요합니다. 예를 들어, 자신이 투자하고자 하는 회사의 비즈니스 모델을 이해하고, 재무 상태가 건전한지, 경영진이 능력 있는지 등을 평가하는 기준을 세워 투자 결정을 내리세요.\n",
      "\n",
      "4. **위험 관리하기**: 모든 투자에는 위험이 따릅니다. 투자하기 전에 자신이 감당할 수 있는 위험 수준을 정하고, 그 범위 내에서 투자하세요. 예를 들어, 손실이 발생했을 때 감당할 수 있는 금액을 미리 정해두고, 그 이상의 손실이 예상될 때는 투자에서 철수하는 것도 한 방법입니다.\n",
      "\n",
      "마지막으로, 이 글은 법적이거나 재무적인 전문 조언이 아니라 일반적인 가이드라는 점을 명심해 주세요. 투자 결정을 내리기 전에는 반드시 전문가의 조언을 구하거나 추가적인 연구를 하시는 것을 추천드립니다.\n",
      "\n",
      "======================================================================\n",
      "질문: 네이버 목표주가는?\n",
      "======================================================================\n"
     ]
    },
    {
     "name": "stderr",
     "output_type": "stream",
     "text": [
      "2025-10-22 16:58:35,276 - httpx - INFO - HTTP Request: POST https://api.openai.com/v1/chat/completions \"HTTP/1.1 200 OK\"\n",
      "2025-10-22 16:58:35,278 - utils.logger - INFO - 분류 결과: analyst_report\n",
      "2025-10-22 16:58:35,281 - utils.logger - INFO - RAG 질의 시작: 네이버 목표주가는?\n",
      "2025-10-22 16:58:35,284 - utils.logger - INFO - RAG 체인 생성 시작\n"
     ]
    },
    {
     "name": "stdout",
     "output_type": "stream",
     "text": [
      "\n",
      "[분류] analyst_report\n"
     ]
    },
    {
     "name": "stderr",
     "output_type": "stream",
     "text": [
      "2025-10-22 16:58:35,765 - chromadb.telemetry.product.posthog - ERROR - Failed to send telemetry event ClientStartEvent: capture() takes 1 positional argument but 3 were given\n",
      "2025-10-22 16:58:35,768 - chromadb.telemetry.product.posthog - ERROR - Failed to send telemetry event ClientCreateCollectionEvent: capture() takes 1 positional argument but 3 were given\n",
      "2025-10-22 16:58:35,769 - utils.logger - INFO - 벡터스토어 로드 완료: test_reports\n",
      "2025-10-22 16:58:35,770 - utils.logger - INFO - RAG 체인 생성 완료\n",
      "2025-10-22 16:58:36,088 - httpx - INFO - HTTP Request: POST https://api.openai.com/v1/embeddings \"HTTP/1.1 200 OK\"\n",
      "2025-10-22 16:58:43,822 - httpx - INFO - HTTP Request: POST https://api.openai.com/v1/chat/completions \"HTTP/1.1 200 OK\"\n",
      "2025-10-22 16:58:43,824 - utils.logger - INFO - RAG 답변 생성 완료: 264자\n",
      "2025-10-22 16:58:43,825 - utils.logger - INFO - 질문 분류 시작: 분산투자가 뭐야?\n"
     ]
    },
    {
     "name": "stdout",
     "output_type": "stream",
     "text": [
      "\n",
      "[답변]\n",
      "죄송하지만, 제공된 참고 문서의 내용을 볼 수 없어 직접적인 정보 제공이 불가능합니다. 네이버 목표주가에 대한 정보는 특정 증권사의 리포트나 분석 자료를 참고해야 합니다. 예를 들어, \"NH투자증권 리포트에 따르면 네이버의 목표주가는 XXX원으로 설정되어 있다\"와 같이 명시할 수 있습니다만, 실제로 이러한 정보를 제공받지 못했습니다. 투자 결정을 위해선 여러 증권사의 리포트를 참고하고, 해당 기업의 재무 상태, 시장 위치, 업계 동향 등 다양한 요소를 고려해야 합니다.\n",
      "\n",
      "[출처]\n",
      "\n",
      "======================================================================\n",
      "질문: 분산투자가 뭐야?\n",
      "======================================================================\n"
     ]
    },
    {
     "name": "stderr",
     "output_type": "stream",
     "text": [
      "2025-10-22 16:58:46,606 - httpx - INFO - HTTP Request: POST https://api.openai.com/v1/chat/completions \"HTTP/1.1 200 OK\"\n",
      "2025-10-22 16:58:46,609 - utils.logger - INFO - 분류 결과: general\n",
      "2025-10-22 16:58:46,609 - utils.logger - INFO - 일반 상담 질의: 분산투자가 뭐야?\n"
     ]
    },
    {
     "name": "stdout",
     "output_type": "stream",
     "text": [
      "\n",
      "[분류] general\n"
     ]
    },
    {
     "name": "stderr",
     "output_type": "stream",
     "text": [
      "2025-10-22 16:59:05,761 - httpx - INFO - HTTP Request: POST https://api.openai.com/v1/chat/completions \"HTTP/1.1 200 OK\"\n",
      "2025-10-22 16:59:05,766 - utils.logger - INFO - 일반 상담 답변 생성 완료\n"
     ]
    },
    {
     "name": "stdout",
     "output_type": "stream",
     "text": [
      "\n",
      "[답변]\n",
      "분산투자란, 말 그대로 여러 곳에 투자를 퍼뜨리는 것을 말해요. 한 가지에만 모든 돈을 걸지 않고, 다양한 종류의 투자처에 조금씩 돈을 나눠서 투자하는 방법이죠. 이렇게 하는 이유는 모든 투자에는 위험이 따르기 때문인데요, 분산투자를 통해 한 곳에서 손실이 나더라도 다른 곳에서의 이익으로 그 손실을 메꿀 수 있어 전체적인 투자 위험을 줄일 수 있습니다.\n",
      "\n",
      "예를 들어보면, 당신이 100만 원을 투자하려고 한다고 치면, 이 돈을 한 회사의 주식에 모두 투자하는 것보다는, 20만 원씩 5개의 다른 회사 주식에 투자하는 것이 분산투자에 해당돼요. 이렇게 하면 한 회사의 주식 가격이 떨어져도 나머지 네 회사의 주식 가격이 오를 수 있어 전체적인 손실을 줄일 수 있죠.\n",
      "\n",
      "또한, 분산투자는 주식뿐만 아니라 채권, 부동산, 금 같은 다양한 자산 클래스에도 적용할 수 있어요. 예를 들어, 주식 시장이 안 좋을 때는 부동산이나 금에 투자한 부분이 손실을 상쇄시킬 수 있습니다.\n",
      "\n",
      "하지만 분산투자도 모든 위험을 완전히 없애주는 만능 열쇠는 아니에요. 시장 전체가 하락하는 경우, 분산투자를 했더라도 손실을 피할 수 없을 수 있습니다. 그렇기 때문에 투자 결정을 내릴 때는 자신의 투자 목표와 위험 감수 능력을 잘 고려해야 해요.\n",
      "\n",
      "마지막으로, 제가 드린 설명은 법적이나 재무적 조언이 아니라는 점을 명심해 주세요. 투자 결정을 내리기 전에는 항상 전문가의 조언을 구하는 것이 좋습니다.\n"
     ]
    }
   ],
   "source": [
    "# ===== 셀 1: 환경 및 모듈 import =====\n",
    "import sys\n",
    "sys.path.append('..')  # 상위 폴더(AI/)의 모듈 import 가능하게\n",
    "\n",
    "from dotenv import load_dotenv\n",
    "load_dotenv()\n",
    "\n",
    "# 우리가 만든 모듈 import\n",
    "from chains.classifier import classify_question\n",
    "from chains.rag_chain import query_rag\n",
    "from chains.general_chain import query_general_advice\n",
    "\n",
    "# ===== 셀 2: 질문 분류 → RAG 실행 통합 테스트 =====\n",
    "def test_full_pipeline(question: str):\n",
    "    \"\"\"전체 파이프라인 테스트\"\"\"\n",
    "    \n",
    "    print(f\"\\n{'='*70}\")\n",
    "    print(f\"질문: {question}\")\n",
    "    print('='*70)\n",
    "    \n",
    "    # 1. 질문 분류\n",
    "    category = classify_question(question)\n",
    "    print(f\"\\n[분류] {category}\")\n",
    "    \n",
    "    # 2. 카테고리별 처리\n",
    "    if category == \"analyst_report\":\n",
    "        result = query_rag(question, collection_name=\"test_reports\")\n",
    "        print(f\"\\n[답변]\\n{result['answer']}\")\n",
    "        print(f\"\\n[출처]\")\n",
    "        for src in result['sources']:\n",
    "            print(f\"  - {src}\")\n",
    "    \n",
    "    elif category == \"general\":\n",
    "        answer = query_general_advice(question)\n",
    "        print(f\"\\n[답변]\\n{answer}\")\n",
    "    \n",
    "    else:\n",
    "        print(f\"\\n[알림] {category} 카테고리는 아직 구현 중입니다.\")\n",
    "\n",
    "# ===== 셀 3: 여러 질문 테스트 =====\n",
    "test_questions = [\n",
    "    \"삼성전자 AI 반도체 전망은?\",\n",
    "    \"초보자한테 추천하는 투자 전략은?\",\n",
    "    \"네이버 목표주가는?\",\n",
    "    \"분산투자가 뭐야?\"\n",
    "]\n",
    "\n",
    "for q in test_questions:\n",
    "    test_full_pipeline(q)\n"
   ]
  }
 ],
 "metadata": {
  "kernelspec": {
   "display_name": "venv",
   "language": "python",
   "name": "python3"
  },
  "language_info": {
   "name": "python",
   "version": "3.11.8"
  }
 },
 "nbformat": 4,
 "nbformat_minor": 5
}
