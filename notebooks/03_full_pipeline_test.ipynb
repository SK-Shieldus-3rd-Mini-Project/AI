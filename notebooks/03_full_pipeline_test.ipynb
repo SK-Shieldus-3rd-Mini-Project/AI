{
 "cells": [
  {
   "cell_type": "code",
   "execution_count": null,
   "id": "62bdd7c9",
   "metadata": {},
   "outputs": [],
   "source": [
    "# ===== 셀 1: 환경 및 모듈 import =====\n",
    "import sys\n",
    "sys.path.append('..')  # 상위 폴더(AI/)의 모듈 import 가능하게\n",
    "\n",
    "from dotenv import load_dotenv\n",
    "load_dotenv()\n",
    "\n",
    "# 우리가 만든 모듈 import\n",
    "from chains.classifier import classify_question\n",
    "from chains.rag_chain import query_rag\n",
    "from chains.general_chain import query_general_advice\n",
    "\n",
    "# ===== 셀 2: 질문 분류 → RAG 실행 통합 테스트 =====\n",
    "def test_full_pipeline(question: str):\n",
    "    \"\"\"전체 파이프라인 테스트\"\"\"\n",
    "    \n",
    "    print(f\"\\n{'='*70}\")\n",
    "    print(f\"질문: {question}\")\n",
    "    print('='*70)\n",
    "    \n",
    "    # 1. 질문 분류\n",
    "    category = classify_question(question)\n",
    "    print(f\"\\n[분류] {category}\")\n",
    "    \n",
    "    # 2. 카테고리별 처리\n",
    "    if category == \"analyst_report\":\n",
    "        result = query_rag(question, collection_name=\"test_reports\")\n",
    "        print(f\"\\n[답변]\\n{result['answer']}\")\n",
    "        print(f\"\\n[출처]\")\n",
    "        for src in result['sources']:\n",
    "            print(f\"  - {src}\")\n",
    "    \n",
    "    elif category == \"general\":\n",
    "        answer = query_general_advice(question)\n",
    "        print(f\"\\n[답변]\\n{answer}\")\n",
    "    \n",
    "    else:\n",
    "        print(f\"\\n[알림] {category} 카테고리는 아직 구현 중입니다.\")\n",
    "\n",
    "# ===== 셀 3: 여러 질문 테스트 =====\n",
    "test_questions = [\n",
    "    \"삼성전자 AI 반도체 전망은?\",\n",
    "    \"초보자한테 추천하는 투자 전략은?\",\n",
    "    \"네이버 목표주가는?\",\n",
    "    \"분산투자가 뭐야?\"\n",
    "]\n",
    "\n",
    "for q in test_questions:\n",
    "    test_full_pipeline(q)\n"
   ]
  }
 ],
 "metadata": {
  "kernelspec": {
   "display_name": "venv",
   "language": "python",
   "name": "python3"
  },
  "language_info": {
   "name": "python",
   "version": "3.11.8"
  }
 },
 "nbformat": 4,
 "nbformat_minor": 5
}
